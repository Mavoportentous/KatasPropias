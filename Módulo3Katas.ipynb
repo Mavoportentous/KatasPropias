{
 "cells": [
  {
   "cell_type": "markdown",
   "metadata": {},
   "source": [
    "# Expresiones de prueba"
   ]
  },
  {
   "cell_type": "code",
   "execution_count": 10,
   "metadata": {},
   "outputs": [],
   "source": [
    "# Tip de práctica 1: Intenta ejecutarlo en un notebook.\n",
    "a = 97\n",
    "b = 55\n",
    "# test expression / expresión de prueba\n",
    "if a < b: \n",
    "    # statement to be run / instrucción a ejecutar\n",
    "    print(b)"
   ]
  },
  {
   "cell_type": "code",
   "execution_count": 14,
   "metadata": {},
   "outputs": [
    {
     "name": "stdout",
     "output_type": "stream",
     "text": [
      "93\n"
     ]
    }
   ],
   "source": [
    "# Aplica el tip de práctica 1.\n",
    "a = 93\n",
    "b = 27\n",
    "if a >= b:\n",
    "    print(a)"
   ]
  },
  {
   "cell_type": "code",
   "execution_count": 23,
   "metadata": {},
   "outputs": [
    {
     "name": "stdout",
     "output_type": "stream",
     "text": [
      "Mirar el cielo\n",
      "!Peligro inminente!\n"
     ]
    }
   ],
   "source": [
    "#Problema No.1\n",
    "#velocidad_asteroide = int(input())\n",
    "velocidad_asteroide = 26\n",
    "if velocidad_asteroide >= 20:\n",
    "    print(\"Mirar el cielo\")\n",
    "if velocidad_asteroide >= 25:\n",
    "    print(\"!Peligro inminente!\")\n",
    "else:\n",
    "    print(\"Sin peligro\")"
   ]
  },
  {
   "cell_type": "code",
   "execution_count": 20,
   "metadata": {},
   "outputs": [
    {
     "name": "stdout",
     "output_type": "stream",
     "text": [
      "!Mirar el cielo!\n"
     ]
    }
   ],
   "source": [
    "#Problema No.2\n",
    "#velocidad_asteroide = int(input())\n",
    "v_asteroide = int(input())\n",
    "t_asteroide = int(input())\n",
    "#v_asteroide = 500\n",
    "#t_asteroide = 2\n",
    "if v_asteroide >= 20:\n",
    "    print(\"!Mirar el cielo!\")\n",
    "    if t_asteroide >= 25 and t_asteroide<1000 :\n",
    "        print(\"Peligro\")\n",
    "    ##else: print(\"El asteroide es grande pero su velocidad lenta\")\n",
    "elif v_asteroide<20:\n",
    "    print(\"No es necesario mirar el cielo\")"
   ]
  },
  {
   "cell_type": "code",
   "execution_count": 25,
   "metadata": {},
   "outputs": [
    {
     "name": "stdout",
     "output_type": "stream",
     "text": [
      "Look up! ¡Hay una luz mágica en el cielo!\n"
     ]
    }
   ],
   "source": [
    "# Problema No.3\n",
    "# Nota, leí mal y al parecer combine dos ejercicios en\n",
    "# ejercicios en el código anterior, no volverá a pasar\n",
    "\n",
    "velocidad_asteroide = 25\n",
    "tamano_asteroide = 40\n",
    "if velocidad_asteroide > 25 and tamano_asteroide > 25:\n",
    "    print('¡Alerta, Un asteroide muy peligroso viene hacia la Tierra!')\n",
    "elif velocidad_asteroide >= 20:\n",
    "    print('Look up! ¡Hay una luz mágica en el cielo!')\n",
    "elif tamano_asteroide < 25:\n",
    "    print('Nada que ver aquí :)')\n",
    "else:\n",
    "    print('Nada que ver aquí :)')"
   ]
  },
  {
   "cell_type": "code",
   "execution_count": null,
   "metadata": {},
   "outputs": [],
   "source": []
  }
 ],
 "metadata": {
  "interpreter": {
   "hash": "57821f00492dc88dc3154099b95f8728578b37e9d4998532c53b63aeba4c855a"
  },
  "kernelspec": {
   "display_name": "Python 3.10.2 64-bit",
   "language": "python",
   "name": "python3"
  },
  "language_info": {
   "codemirror_mode": {
    "name": "ipython",
    "version": 3
   },
   "file_extension": ".py",
   "mimetype": "text/x-python",
   "name": "python",
   "nbconvert_exporter": "python",
   "pygments_lexer": "ipython3",
   "version": "3.10.2"
  },
  "orig_nbformat": 4
 },
 "nbformat": 4,
 "nbformat_minor": 2
}
